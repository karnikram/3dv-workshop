{
 "cells": [
  {
   "cell_type": "code",
   "execution_count": 2,
   "metadata": {},
   "outputs": [
    {
     "name": "stdout",
     "output_type": "stream",
     "text": [
      "img shape (188, 225)\n"
     ]
    }
   ],
   "source": [
    "from numpy import linalg as LA\n",
    "import numpy as np\n",
    "import cv2\n",
    "from rectify import rectify\n",
    "import matplotlib.pyplot as plt\n",
    "\n",
    "\n",
    "img_l = cv2.imread(\"data/cone1.png\", 0)\n",
    "img_r = cv2.imread(\"data/cone2.png\", 0)\n",
    "img_l = cv2.resize(img_l, None, fx=0.5, fy=0.5, interpolation = cv2.INTER_CUBIC)\n",
    "img_r = cv2.resize(img_r, None, fx=0.5, fy=0.5, interpolation = cv2.INTER_CUBIC)\n",
    "\n",
    "print('img shape', img_l.shape)\n",
    "block_size = 5\n",
    "cost = 1\n",
    "hb = int(np.ceil(block_size/2.))\n",
    "\n",
    "max_disp = 15\n",
    "\n",
    "cost = 1\n",
    "\n",
    "\n",
    "def DTW(blockR, blockL, max_disp, cost):\n",
    "    M = np.zeros([blockR.shape[1], blockR.shape[1]])\n",
    "    b, b2 = block_R.shape\n",
    "    np.save('block_R', block_R)\n",
    "    np.save('block_L', block_L)\n",
    "    j_range = b2 - b - max_disp\n",
    "    i_range = b2 - b\n",
    "    M = np.zeros([j_range, i_range ])\n",
    "    for j in range(j_range):\n",
    "        for i in range(j, min(b2-b, j+max_disp)):\n",
    "            err = block_R[:, j:j+b-1] - block_L[:, i:i+b-1]\n",
    "            np.save('br', block_R[:, j:j+b-1])\n",
    "            np.save('bl', block_L[:, i:i+b-1])\n",
    "            np.save('err', err)\n",
    "            M[j,i] = np.sum([np.abs(e) for e in err])\n",
    "    np.save('M', M)\n",
    "    M[M==0] = 1e+8\n",
    "\n",
    "    for i in range(1, M.shape[0]):\n",
    "        for j in range(i, min(b2, i+max_disp)):\n",
    "            cost_ele = np.arange(M.shape[1])-j+1\n",
    "\n",
    "            M[i,j] = M[i,j] + min(M[i-1,:] + [cost * ce for ce in cost_ele])\n",
    "    np.save('M2', M)\n",
    "\n",
    "    c = np.zeros(b2)\n",
    "    for i in range(M.shape[0]-1,0,-1):\n",
    "        L = M[i]\n",
    "\n",
    "        bb = np.argmin(L)\n",
    "        c[i] = bb-i\n",
    "    np.save('c',c)\n",
    "\n",
    "    return c\n",
    "\n",
    "\n",
    "disp_map = np.zeros(np.shape(img_r))\n",
    "num_rows, num_cols = np.shape(img_l)\n",
    "\n",
    "for i in range(hb+1, num_rows-hb):\n",
    "    block_R = img_r[i-hb:i+hb, :]\n",
    "    block_L = img_l[i-hb:i+hb, :]\n",
    "    block_L = block_L.astype(float)\n",
    "    block_R = block_R.astype(float)\n",
    "    disp_map[i,:] = DTW(block_R, block_L, max_disp, cost)\n",
    "\n",
    "np.save('disparity_output', disp_map)"
   ]
  },
  {
   "cell_type": "code",
   "execution_count": 3,
   "metadata": {},
   "outputs": [
    {
     "ename": "NameError",
     "evalue": "name 'plt' is not defined",
     "output_type": "error",
     "traceback": [
      "\u001b[0;31m---------------------------------------------------------------------------\u001b[0m",
      "\u001b[0;31mNameError\u001b[0m                                 Traceback (most recent call last)",
      "\u001b[0;32m<ipython-input-3-ed6d6a16e069>\u001b[0m in \u001b[0;36m<module>\u001b[0;34m\u001b[0m\n\u001b[0;32m----> 1\u001b[0;31m \u001b[0mplt\u001b[0m\u001b[0;34m.\u001b[0m\u001b[0mimshow\u001b[0m\u001b[0;34m(\u001b[0m\u001b[0mdisp_map\u001b[0m\u001b[0;34m)\u001b[0m\u001b[0;34m\u001b[0m\u001b[0;34m\u001b[0m\u001b[0m\n\u001b[0m",
      "\u001b[0;31mNameError\u001b[0m: name 'plt' is not defined"
     ]
    }
   ],
   "source": [
    "plt.imshow(disp_map)"
   ]
  },
  {
   "cell_type": "code",
   "execution_count": null,
   "metadata": {},
   "outputs": [],
   "source": []
  }
 ],
 "metadata": {
  "kernelspec": {
   "display_name": "Python 3",
   "language": "python",
   "name": "python3"
  },
  "language_info": {
   "codemirror_mode": {
    "name": "ipython",
    "version": 3
   },
   "file_extension": ".py",
   "mimetype": "text/x-python",
   "name": "python",
   "nbconvert_exporter": "python",
   "pygments_lexer": "ipython3",
   "version": "3.7.5"
  }
 },
 "nbformat": 4,
 "nbformat_minor": 2
}
